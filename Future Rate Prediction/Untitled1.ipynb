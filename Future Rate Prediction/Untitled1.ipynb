{
 "cells": [
  {
   "cell_type": "code",
   "execution_count": 1,
   "metadata": {},
   "outputs": [
    {
     "data": {
      "text/html": [
       "<div>\n",
       "<style scoped>\n",
       "    .dataframe tbody tr th:only-of-type {\n",
       "        vertical-align: middle;\n",
       "    }\n",
       "\n",
       "    .dataframe tbody tr th {\n",
       "        vertical-align: top;\n",
       "    }\n",
       "\n",
       "    .dataframe thead th {\n",
       "        text-align: right;\n",
       "    }\n",
       "</style>\n",
       "<table border=\"1\" class=\"dataframe\">\n",
       "  <thead>\n",
       "    <tr style=\"text-align: right;\">\n",
       "      <th></th>\n",
       "      <th>Market</th>\n",
       "      <th>Arrival Year</th>\n",
       "      <th>Arrival Month</th>\n",
       "      <th>Arrivals (Tonnes)</th>\n",
       "      <th>Variety</th>\n",
       "      <th>Minimum Price(Rs./Quintal)</th>\n",
       "      <th>Maximum Price(Rs./Quintal)</th>\n",
       "      <th>Modal Price(Rs./Quintal)</th>\n",
       "    </tr>\n",
       "  </thead>\n",
       "  <tbody>\n",
       "    <tr>\n",
       "      <td>0</td>\n",
       "      <td>Abohar</td>\n",
       "      <td>2019</td>\n",
       "      <td>December</td>\n",
       "      <td>52.54</td>\n",
       "      <td>Potato</td>\n",
       "      <td>340.0</td>\n",
       "      <td>1619.0</td>\n",
       "      <td>1185.0</td>\n",
       "    </tr>\n",
       "    <tr>\n",
       "      <td>1</td>\n",
       "      <td>Abohar</td>\n",
       "      <td>2019</td>\n",
       "      <td>December</td>\n",
       "      <td>37.24</td>\n",
       "      <td>Potato</td>\n",
       "      <td>539.0</td>\n",
       "      <td>1431.0</td>\n",
       "      <td>1420.0</td>\n",
       "    </tr>\n",
       "    <tr>\n",
       "      <td>2</td>\n",
       "      <td>Abohar</td>\n",
       "      <td>2019</td>\n",
       "      <td>December</td>\n",
       "      <td>53.34</td>\n",
       "      <td>Potato</td>\n",
       "      <td>552.0</td>\n",
       "      <td>2750.0</td>\n",
       "      <td>846.0</td>\n",
       "    </tr>\n",
       "    <tr>\n",
       "      <td>3</td>\n",
       "      <td>Abohar</td>\n",
       "      <td>2019</td>\n",
       "      <td>December</td>\n",
       "      <td>27.50</td>\n",
       "      <td>Potato</td>\n",
       "      <td>1096.0</td>\n",
       "      <td>1576.0</td>\n",
       "      <td>1341.0</td>\n",
       "    </tr>\n",
       "    <tr>\n",
       "      <td>4</td>\n",
       "      <td>Abohar</td>\n",
       "      <td>2019</td>\n",
       "      <td>December</td>\n",
       "      <td>52.57</td>\n",
       "      <td>Potato</td>\n",
       "      <td>415.0</td>\n",
       "      <td>1692.0</td>\n",
       "      <td>1574.0</td>\n",
       "    </tr>\n",
       "  </tbody>\n",
       "</table>\n",
       "</div>"
      ],
      "text/plain": [
       "   Market  Arrival Year Arrival Month  Arrivals (Tonnes) Variety  \\\n",
       "0  Abohar          2019      December              52.54  Potato   \n",
       "1  Abohar          2019      December              37.24  Potato   \n",
       "2  Abohar          2019      December              53.34  Potato   \n",
       "3  Abohar          2019      December              27.50  Potato   \n",
       "4  Abohar          2019      December              52.57  Potato   \n",
       "\n",
       "   Minimum Price(Rs./Quintal)  Maximum Price(Rs./Quintal)  \\\n",
       "0                       340.0                      1619.0   \n",
       "1                       539.0                      1431.0   \n",
       "2                       552.0                      2750.0   \n",
       "3                      1096.0                      1576.0   \n",
       "4                       415.0                      1692.0   \n",
       "\n",
       "   Modal Price(Rs./Quintal)  \n",
       "0                    1185.0  \n",
       "1                    1420.0  \n",
       "2                     846.0  \n",
       "3                    1341.0  \n",
       "4                    1574.0  "
      ]
     },
     "execution_count": 1,
     "metadata": {},
     "output_type": "execute_result"
    }
   ],
   "source": [
    "import pandas as pd\n",
    "df=pd.read_csv(\"Punjab_processed.csv\")\n",
    "df.head()"
   ]
  },
  {
   "cell_type": "code",
   "execution_count": null,
   "metadata": {},
   "outputs": [],
   "source": [
    "output.head()"
   ]
  },
  {
   "cell_type": "code",
   "execution_count": 2,
   "metadata": {},
   "outputs": [],
   "source": [
    "from sklearn.preprocessing import LabelEncoder\n",
    "le_file=LabelEncoder()\n"
   ]
  },
  {
   "cell_type": "code",
   "execution_count": null,
   "metadata": {},
   "outputs": [],
   "source": [
    "input['Market']= le_file.fit_transform(input['Market'])\n",
    "input['Arrival Month']= le_file.fit_transform(input['Arrival Month'])\n",
    "input['Arrival Year']= le_file.fit_transform(input['Arrival Year'])\n",
    "#input['Variety']= le_file.fit_transform(input['Variety'])\n",
    "input.head()\n"
   ]
  },
  {
   "cell_type": "code",
   "execution_count": 3,
   "metadata": {},
   "outputs": [
    {
     "data": {
      "text/plain": [
       "Market                         True\n",
       "Arrival Year                  False\n",
       "Arrival Month                 False\n",
       "Arrivals (Tonnes)              True\n",
       "Variety                        True\n",
       "Minimum Price(Rs./Quintal)     True\n",
       "Maximum Price(Rs./Quintal)     True\n",
       "Modal Price(Rs./Quintal)       True\n",
       "dtype: bool"
      ]
     },
     "execution_count": 3,
     "metadata": {},
     "output_type": "execute_result"
    }
   ],
   "source": [
    "df.isnull().any()"
   ]
  },
  {
   "cell_type": "code",
   "execution_count": 4,
   "metadata": {},
   "outputs": [],
   "source": [
    "df = df.dropna(axis=0, subset=['Arrivals (Tonnes)','Variety','Market','Minimum Price(Rs./Quintal)','Maximum Price(Rs./Quintal)', 'Modal Price(Rs./Quintal)' ])"
   ]
  },
  {
   "cell_type": "code",
   "execution_count": 5,
   "metadata": {},
   "outputs": [
    {
     "data": {
      "text/html": [
       "<div>\n",
       "<style scoped>\n",
       "    .dataframe tbody tr th:only-of-type {\n",
       "        vertical-align: middle;\n",
       "    }\n",
       "\n",
       "    .dataframe tbody tr th {\n",
       "        vertical-align: top;\n",
       "    }\n",
       "\n",
       "    .dataframe thead th {\n",
       "        text-align: right;\n",
       "    }\n",
       "</style>\n",
       "<table border=\"1\" class=\"dataframe\">\n",
       "  <thead>\n",
       "    <tr style=\"text-align: right;\">\n",
       "      <th></th>\n",
       "      <th>Market</th>\n",
       "      <th>Arrival Year</th>\n",
       "      <th>Arrival Month</th>\n",
       "      <th>Arrivals (Tonnes)</th>\n",
       "      <th>Variety</th>\n",
       "      <th>Minimum Price(Rs./Quintal)</th>\n",
       "      <th>Maximum Price(Rs./Quintal)</th>\n",
       "      <th>Modal Price(Rs./Quintal)</th>\n",
       "    </tr>\n",
       "  </thead>\n",
       "  <tbody>\n",
       "    <tr>\n",
       "      <td>0</td>\n",
       "      <td>Abohar</td>\n",
       "      <td>2019</td>\n",
       "      <td>December</td>\n",
       "      <td>52.54</td>\n",
       "      <td>Potato</td>\n",
       "      <td>340.0</td>\n",
       "      <td>1619.0</td>\n",
       "      <td>1185.0</td>\n",
       "    </tr>\n",
       "    <tr>\n",
       "      <td>1</td>\n",
       "      <td>Abohar</td>\n",
       "      <td>2019</td>\n",
       "      <td>December</td>\n",
       "      <td>37.24</td>\n",
       "      <td>Potato</td>\n",
       "      <td>539.0</td>\n",
       "      <td>1431.0</td>\n",
       "      <td>1420.0</td>\n",
       "    </tr>\n",
       "    <tr>\n",
       "      <td>2</td>\n",
       "      <td>Abohar</td>\n",
       "      <td>2019</td>\n",
       "      <td>December</td>\n",
       "      <td>53.34</td>\n",
       "      <td>Potato</td>\n",
       "      <td>552.0</td>\n",
       "      <td>2750.0</td>\n",
       "      <td>846.0</td>\n",
       "    </tr>\n",
       "    <tr>\n",
       "      <td>3</td>\n",
       "      <td>Abohar</td>\n",
       "      <td>2019</td>\n",
       "      <td>December</td>\n",
       "      <td>27.50</td>\n",
       "      <td>Potato</td>\n",
       "      <td>1096.0</td>\n",
       "      <td>1576.0</td>\n",
       "      <td>1341.0</td>\n",
       "    </tr>\n",
       "    <tr>\n",
       "      <td>4</td>\n",
       "      <td>Abohar</td>\n",
       "      <td>2019</td>\n",
       "      <td>December</td>\n",
       "      <td>52.57</td>\n",
       "      <td>Potato</td>\n",
       "      <td>415.0</td>\n",
       "      <td>1692.0</td>\n",
       "      <td>1574.0</td>\n",
       "    </tr>\n",
       "  </tbody>\n",
       "</table>\n",
       "</div>"
      ],
      "text/plain": [
       "   Market  Arrival Year Arrival Month  Arrivals (Tonnes) Variety  \\\n",
       "0  Abohar          2019      December              52.54  Potato   \n",
       "1  Abohar          2019      December              37.24  Potato   \n",
       "2  Abohar          2019      December              53.34  Potato   \n",
       "3  Abohar          2019      December              27.50  Potato   \n",
       "4  Abohar          2019      December              52.57  Potato   \n",
       "\n",
       "   Minimum Price(Rs./Quintal)  Maximum Price(Rs./Quintal)  \\\n",
       "0                       340.0                      1619.0   \n",
       "1                       539.0                      1431.0   \n",
       "2                       552.0                      2750.0   \n",
       "3                      1096.0                      1576.0   \n",
       "4                       415.0                      1692.0   \n",
       "\n",
       "   Modal Price(Rs./Quintal)  \n",
       "0                    1185.0  \n",
       "1                    1420.0  \n",
       "2                     846.0  \n",
       "3                    1341.0  \n",
       "4                    1574.0  "
      ]
     },
     "execution_count": 5,
     "metadata": {},
     "output_type": "execute_result"
    }
   ],
   "source": [
    "\n",
    "#input['Variety']= le_file.fit_transform(input['Variety'])\n",
    "df.head()"
   ]
  },
  {
   "cell_type": "code",
   "execution_count": 6,
   "metadata": {},
   "outputs": [
    {
     "data": {
      "text/html": [
       "<div>\n",
       "<style scoped>\n",
       "    .dataframe tbody tr th:only-of-type {\n",
       "        vertical-align: middle;\n",
       "    }\n",
       "\n",
       "    .dataframe tbody tr th {\n",
       "        vertical-align: top;\n",
       "    }\n",
       "\n",
       "    .dataframe thead th {\n",
       "        text-align: right;\n",
       "    }\n",
       "</style>\n",
       "<table border=\"1\" class=\"dataframe\">\n",
       "  <thead>\n",
       "    <tr style=\"text-align: right;\">\n",
       "      <th></th>\n",
       "      <th>Market</th>\n",
       "      <th>Arrival Year</th>\n",
       "      <th>Arrival Month</th>\n",
       "      <th>Arrivals (Tonnes)</th>\n",
       "      <th>Variety</th>\n",
       "      <th>Minimum Price(Rs./Quintal)</th>\n",
       "      <th>Maximum Price(Rs./Quintal)</th>\n",
       "    </tr>\n",
       "  </thead>\n",
       "  <tbody>\n",
       "    <tr>\n",
       "      <td>0</td>\n",
       "      <td>Abohar</td>\n",
       "      <td>2019</td>\n",
       "      <td>December</td>\n",
       "      <td>52.54</td>\n",
       "      <td>Potato</td>\n",
       "      <td>340.0</td>\n",
       "      <td>1619.0</td>\n",
       "    </tr>\n",
       "    <tr>\n",
       "      <td>1</td>\n",
       "      <td>Abohar</td>\n",
       "      <td>2019</td>\n",
       "      <td>December</td>\n",
       "      <td>37.24</td>\n",
       "      <td>Potato</td>\n",
       "      <td>539.0</td>\n",
       "      <td>1431.0</td>\n",
       "    </tr>\n",
       "    <tr>\n",
       "      <td>2</td>\n",
       "      <td>Abohar</td>\n",
       "      <td>2019</td>\n",
       "      <td>December</td>\n",
       "      <td>53.34</td>\n",
       "      <td>Potato</td>\n",
       "      <td>552.0</td>\n",
       "      <td>2750.0</td>\n",
       "    </tr>\n",
       "    <tr>\n",
       "      <td>3</td>\n",
       "      <td>Abohar</td>\n",
       "      <td>2019</td>\n",
       "      <td>December</td>\n",
       "      <td>27.50</td>\n",
       "      <td>Potato</td>\n",
       "      <td>1096.0</td>\n",
       "      <td>1576.0</td>\n",
       "    </tr>\n",
       "    <tr>\n",
       "      <td>4</td>\n",
       "      <td>Abohar</td>\n",
       "      <td>2019</td>\n",
       "      <td>December</td>\n",
       "      <td>52.57</td>\n",
       "      <td>Potato</td>\n",
       "      <td>415.0</td>\n",
       "      <td>1692.0</td>\n",
       "    </tr>\n",
       "  </tbody>\n",
       "</table>\n",
       "</div>"
      ],
      "text/plain": [
       "   Market  Arrival Year Arrival Month  Arrivals (Tonnes) Variety  \\\n",
       "0  Abohar          2019      December              52.54  Potato   \n",
       "1  Abohar          2019      December              37.24  Potato   \n",
       "2  Abohar          2019      December              53.34  Potato   \n",
       "3  Abohar          2019      December              27.50  Potato   \n",
       "4  Abohar          2019      December              52.57  Potato   \n",
       "\n",
       "   Minimum Price(Rs./Quintal)  Maximum Price(Rs./Quintal)  \n",
       "0                       340.0                      1619.0  \n",
       "1                       539.0                      1431.0  \n",
       "2                       552.0                      2750.0  \n",
       "3                      1096.0                      1576.0  \n",
       "4                       415.0                      1692.0  "
      ]
     },
     "execution_count": 6,
     "metadata": {},
     "output_type": "execute_result"
    }
   ],
   "source": [
    "input=df.drop('Modal Price(Rs./Quintal)' ,axis='columns')\n",
    "\n",
    "output=df['Modal Price(Rs./Quintal)']\n",
    "input.head()"
   ]
  },
  {
   "cell_type": "code",
   "execution_count": 7,
   "metadata": {},
   "outputs": [],
   "source": [
    "input['Market']= le_file.fit_transform(input['Market'])\n",
    "input['Arrival Month']= le_file.fit_transform(input['Arrival Month'])\n",
    "input['Arrival Year']= le_file.fit_transform(input['Arrival Year'])\n",
    "input['Variety']= le_file.fit_transform(input['Variety'])\n",
    "input.head()\n",
    "\n",
    "from sklearn.model_selection import train_test_split\n",
    "x_train,x_test,y_train,y_test=train_test_split(input,output,test_size=0.2)"
   ]
  },
  {
   "cell_type": "code",
   "execution_count": 8,
   "metadata": {},
   "outputs": [],
   "source": [
    "from sklearn.svm import SVR"
   ]
  },
  {
   "cell_type": "code",
   "execution_count": 9,
   "metadata": {},
   "outputs": [
    {
     "data": {
      "text/plain": [
       "SVR(C=1.0, cache_size=200, coef0=0.0, degree=3, epsilon=0.1, gamma='scale',\n",
       "    kernel='poly', max_iter=-1, shrinking=True, tol=0.001, verbose=False)"
      ]
     },
     "execution_count": 9,
     "metadata": {},
     "output_type": "execute_result"
    }
   ],
   "source": [
    "regressor = SVR(kernel='poly', gamma='scale')\n",
    "regressor.fit(x_train,y_train)"
   ]
  },
  {
   "cell_type": "code",
   "execution_count": 10,
   "metadata": {},
   "outputs": [],
   "source": [
    "y_pred=regressor.predict(x_test)"
   ]
  },
  {
   "cell_type": "code",
   "execution_count": 11,
   "metadata": {},
   "outputs": [
    {
     "name": "stdout",
     "output_type": "stream",
     "text": [
      "accuracy is 0.8101772197607224\n"
     ]
    }
   ],
   "source": [
    "print(\"accuracy is\",regressor.score(x_test, y_test))"
   ]
  },
  {
   "cell_type": "code",
   "execution_count": 12,
   "metadata": {},
   "outputs": [
    {
     "name": "stderr",
     "output_type": "stream",
     "text": [
      "C:\\Users\\Palak\\Anaconda\\lib\\site-packages\\sklearn\\externals\\joblib\\__init__.py:15: DeprecationWarning: sklearn.externals.joblib is deprecated in 0.21 and will be removed in 0.23. Please import this functionality directly from joblib, which can be installed with: pip install joblib. If this warning is raised when loading pickled models, you may need to re-serialize those models with scikit-learn 0.21+.\n",
      "  warnings.warn(msg, category=DeprecationWarning)\n"
     ]
    },
    {
     "data": {
      "text/plain": [
       "['Punjab_nodal_potato.sav']"
      ]
     },
     "execution_count": 12,
     "metadata": {},
     "output_type": "execute_result"
    }
   ],
   "source": [
    "from sklearn.externals import joblib\n",
    "filename=\"Punjab_nodal_potato.sav\"\n",
    "joblib.dump(regressor, filename)"
   ]
  },
  {
   "cell_type": "code",
   "execution_count": null,
   "metadata": {},
   "outputs": [],
   "source": []
  }
 ],
 "metadata": {
  "kernelspec": {
   "display_name": "Python 3",
   "language": "python",
   "name": "python3"
  },
  "language_info": {
   "codemirror_mode": {
    "name": "ipython",
    "version": 3
   },
   "file_extension": ".py",
   "mimetype": "text/x-python",
   "name": "python",
   "nbconvert_exporter": "python",
   "pygments_lexer": "ipython3",
   "version": "3.7.4"
  }
 },
 "nbformat": 4,
 "nbformat_minor": 2
}
